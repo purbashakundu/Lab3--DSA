{
  "nbformat": 4,
  "nbformat_minor": 0,
  "metadata": {
    "colab": {
      "provenance": [],
      "authorship_tag": "ABX9TyPX33ywA5dZoBxw98VB05G3",
      "include_colab_link": true
    },
    "kernelspec": {
      "name": "python3",
      "display_name": "Python 3"
    },
    "language_info": {
      "name": "python"
    }
  },
  "cells": [
    {
      "cell_type": "markdown",
      "metadata": {
        "id": "view-in-github",
        "colab_type": "text"
      },
      "source": [
        "<a href=\"https://colab.research.google.com/github/purbashakundu/Lab3--DSA/blob/main/Untitled0.ipynb\" target=\"_parent\"><img src=\"https://colab.research.google.com/assets/colab-badge.svg\" alt=\"Open In Colab\"/></a>"
      ]
    },
    {
      "cell_type": "code",
      "source": [
        "print(\"Hello\")"
      ],
      "metadata": {
        "colab": {
          "base_uri": "https://localhost:8080/"
        },
        "id": "4vESf6NhPDVI",
        "outputId": "36d845bf-3b5c-40c5-df6f-b234b36e333f"
      },
      "execution_count": 1,
      "outputs": [
        {
          "output_type": "stream",
          "name": "stdout",
          "text": [
            "Hello\n"
          ]
        }
      ]
    },
    {
      "cell_type": "markdown",
      "source": [],
      "metadata": {
        "id": "CFmhv-mnQJjj"
      }
    },
    {
      "cell_type": "markdown",
      "source": [],
      "metadata": {
        "id": "GPlsxklzQrms"
      }
    },
    {
      "cell_type": "code",
      "source": [
        "name=\"Partha\"\n",
        "name=\"Partha\"\n",
        "age=25\n",
        "height=6.2\n",
        "is_student=False"
      ],
      "metadata": {
        "id": "8wFL6DJkQ8cj"
      },
      "execution_count": 7,
      "outputs": []
    },
    {
      "cell_type": "code",
      "source": [
        "print(\"Name: \", name)\n",
        "print(\"Age:\", age)\n",
        "print(\"Height:\", height)\n",
        "print(\"Is student?\", is_student)"
      ],
      "metadata": {
        "colab": {
          "base_uri": "https://localhost:8080/"
        },
        "id": "cv0n5mZORaTL",
        "outputId": "d8d71b76-0194-4225-821e-1d01b298b6b4"
      },
      "execution_count": 8,
      "outputs": [
        {
          "output_type": "stream",
          "name": "stdout",
          "text": [
            "Name:  Partha\n",
            "Age: 25\n",
            "Height: 6.2\n",
            "Is student? False\n"
          ]
        }
      ]
    },
    {
      "cell_type": "code",
      "source": [
        "print(name,age)"
      ],
      "metadata": {
        "colab": {
          "base_uri": "https://localhost:8080/"
        },
        "id": "C3ZGqSQaSNCq",
        "outputId": "9cf121aa-43dc-490d-8deb-fd4021d0d738"
      },
      "execution_count": 9,
      "outputs": [
        {
          "output_type": "stream",
          "name": "stdout",
          "text": [
            "Partha 25\n"
          ]
        }
      ]
    },
    {
      "cell_type": "code",
      "source": [
        "x=1\n",
        "y=\"Partha\"\n",
        "print(type(x))\n",
        "print(type(y))\n"
      ],
      "metadata": {
        "colab": {
          "base_uri": "https://localhost:8080/"
        },
        "id": "YZbNGEo-S696",
        "outputId": "ff54e223-6cd9-4414-da9d-f25a6a2b7b8a"
      },
      "execution_count": 11,
      "outputs": [
        {
          "output_type": "stream",
          "name": "stdout",
          "text": [
            "<class 'int'>\n",
            "<class 'str'>\n"
          ]
        }
      ]
    }
  ]
}